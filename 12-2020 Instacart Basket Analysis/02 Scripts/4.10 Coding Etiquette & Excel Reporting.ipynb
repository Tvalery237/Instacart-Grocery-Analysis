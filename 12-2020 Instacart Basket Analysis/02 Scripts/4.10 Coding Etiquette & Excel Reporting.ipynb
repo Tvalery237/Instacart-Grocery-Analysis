{
 "cells": [
  {
   "cell_type": "markdown",
   "id": "7d40e807-cae8-4e2a-8020-12cc0ba413c7",
   "metadata": {},
   "source": [
    "# 4.10 Instacart Final Task"
   ]
  },
  {
   "cell_type": "markdown",
   "id": "89460a55-5222-4368-9bc1-eaf15daa8e1a",
   "metadata": {},
   "source": [
    "# Contents"
   ]
  },
  {
   "cell_type": "markdown",
   "id": "4062253c-222a-45e6-96ac-1bfcadbed1fe",
   "metadata": {},
   "source": [
    "# Import Libraries and Dataframes"
   ]
  },
  {
   "cell_type": "markdown",
   "id": "73a8ff97-1f19-42c0-9d35-6a5859aa1fa1",
   "metadata": {},
   "source": [
    "# Create regional segmentation of data"
   ]
  },
  {
   "cell_type": "markdown",
   "id": "9379b532-a3a5-4dee-9e5b-7c397cea17c2",
   "metadata": {},
   "source": [
    "# Determine whether there’s a difference in spending habits between the different U.S. regions"
   ]
  },
  {
   "cell_type": "markdown",
   "id": "73668236-44f5-45d5-9189-0f59ec300fb7",
   "metadata": {},
   "source": [
    "# Create an exclusion flag for low-activity customers"
   ]
  },
  {
   "cell_type": "markdown",
   "id": "030925ed-0413-4b04-8969-79fedc94203c",
   "metadata": {},
   "source": [
    "# Customer profiling"
   ]
  },
  {
   "cell_type": "markdown",
   "id": "b5b6c58e-a910-41ed-bca8-5205350d8b89",
   "metadata": {},
   "source": [
    "# Aggregate the max, mean, and min variables on a customer-profile level for usage frequency and expenditure"
   ]
  },
  {
   "cell_type": "markdown",
   "id": "fa61d6b6-513c-4075-ac65-78ef655d7ee8",
   "metadata": {},
   "source": [
    "# Compare customer profiles with regions and departments"
   ]
  },
  {
   "cell_type": "markdown",
   "id": "a60260a8-1a47-4310-b928-ea7cfa32d620",
   "metadata": {},
   "source": [
    "# Visualizations"
   ]
  },
  {
   "cell_type": "code",
   "execution_count": 2,
   "id": "0b4d9be6-dcb2-4d36-bbd4-0e31c3154bea",
   "metadata": {},
   "outputs": [],
   "source": [
    "# importing libraries\n",
    "import pandas as pd\n",
    "import numpy as np\n",
    "import os\n",
    "import matplotlib.pyplot as plt\n",
    "import seaborn as sns\n",
    "import scipy"
   ]
  },
  {
   "cell_type": "code",
   "execution_count": 3,
   "id": "ba41ff20-c6fc-4ddd-a487-3591dba88b4c",
   "metadata": {},
   "outputs": [],
   "source": [
    "# importing library\n",
    "path = r\"C:\\your\\base\\directory\"\n",
    "input_dir = os.path.join(path, '02 Data', 'Prepared Data')"
   ]
  },
  {
   "cell_type": "code",
   "execution_count": 4,
   "id": "16911217-9048-4cb7-9baf-f9351731e574",
   "metadata": {},
   "outputs": [],
   "source": [
    "pickle_file = os.path.join(input_dir, 'ords_prods_cust_merge.pkl')"
   ]
  },
  {
   "cell_type": "code",
   "execution_count": 5,
   "id": "d0123815-65cc-460e-b132-88c05cc8c157",
   "metadata": {},
   "outputs": [],
   "source": [
    "ords_prods_cust_merge = pd.read_pickle(pickle_file)"
   ]
  },
  {
   "cell_type": "markdown",
   "id": "0d819bec-b8a9-4bbd-9a53-c794cd49fe5b",
   "metadata": {},
   "source": [
    "# 3. Create a regional segmentation of the data"
   ]
  },
  {
   "cell_type": "code",
   "execution_count": 6,
   "id": "1d335ad2-af67-43cc-9fab-eeb3e0542b90",
   "metadata": {},
   "outputs": [
    {
     "data": {
      "text/html": [
       "<div>\n",
       "<style scoped>\n",
       "    .dataframe tbody tr th:only-of-type {\n",
       "        vertical-align: middle;\n",
       "    }\n",
       "\n",
       "    .dataframe tbody tr th {\n",
       "        vertical-align: top;\n",
       "    }\n",
       "\n",
       "    .dataframe thead th {\n",
       "        text-align: right;\n",
       "    }\n",
       "</style>\n",
       "<table border=\"1\" class=\"dataframe\">\n",
       "  <thead>\n",
       "    <tr style=\"text-align: right;\">\n",
       "      <th></th>\n",
       "      <th>order_id</th>\n",
       "      <th>user_id</th>\n",
       "      <th>order_number</th>\n",
       "      <th>order_dow</th>\n",
       "      <th>order_hour_of_day</th>\n",
       "      <th>days_since_prior_order</th>\n",
       "      <th>product_id</th>\n",
       "      <th>add_to_cart_order</th>\n",
       "      <th>reordered</th>\n",
       "      <th>_merge</th>\n",
       "      <th>...</th>\n",
       "      <th>order_frequency_flag</th>\n",
       "      <th>First Name</th>\n",
       "      <th>Last Name</th>\n",
       "      <th>Gender</th>\n",
       "      <th>State</th>\n",
       "      <th>Age</th>\n",
       "      <th>Date Joined</th>\n",
       "      <th>Number of Dependents</th>\n",
       "      <th>Family Status</th>\n",
       "      <th>Income</th>\n",
       "    </tr>\n",
       "  </thead>\n",
       "  <tbody>\n",
       "    <tr>\n",
       "      <th>0</th>\n",
       "      <td>2</td>\n",
       "      <td>202279</td>\n",
       "      <td>3</td>\n",
       "      <td>5</td>\n",
       "      <td>9</td>\n",
       "      <td>8.0</td>\n",
       "      <td>33120.0</td>\n",
       "      <td>1.0</td>\n",
       "      <td>1.0</td>\n",
       "      <td>both</td>\n",
       "      <td>...</td>\n",
       "      <td>Non-frequent customer</td>\n",
       "      <td>Paul</td>\n",
       "      <td>Coleman</td>\n",
       "      <td>Male</td>\n",
       "      <td>Idaho</td>\n",
       "      <td>57</td>\n",
       "      <td>2/6/2020</td>\n",
       "      <td>3</td>\n",
       "      <td>married</td>\n",
       "      <td>98119</td>\n",
       "    </tr>\n",
       "    <tr>\n",
       "      <th>1</th>\n",
       "      <td>2</td>\n",
       "      <td>202279</td>\n",
       "      <td>3</td>\n",
       "      <td>5</td>\n",
       "      <td>9</td>\n",
       "      <td>8.0</td>\n",
       "      <td>28985.0</td>\n",
       "      <td>2.0</td>\n",
       "      <td>1.0</td>\n",
       "      <td>both</td>\n",
       "      <td>...</td>\n",
       "      <td>Non-frequent customer</td>\n",
       "      <td>Paul</td>\n",
       "      <td>Coleman</td>\n",
       "      <td>Male</td>\n",
       "      <td>Idaho</td>\n",
       "      <td>57</td>\n",
       "      <td>2/6/2020</td>\n",
       "      <td>3</td>\n",
       "      <td>married</td>\n",
       "      <td>98119</td>\n",
       "    </tr>\n",
       "    <tr>\n",
       "      <th>2</th>\n",
       "      <td>2</td>\n",
       "      <td>202279</td>\n",
       "      <td>3</td>\n",
       "      <td>5</td>\n",
       "      <td>9</td>\n",
       "      <td>8.0</td>\n",
       "      <td>9327.0</td>\n",
       "      <td>3.0</td>\n",
       "      <td>0.0</td>\n",
       "      <td>both</td>\n",
       "      <td>...</td>\n",
       "      <td>Non-frequent customer</td>\n",
       "      <td>Paul</td>\n",
       "      <td>Coleman</td>\n",
       "      <td>Male</td>\n",
       "      <td>Idaho</td>\n",
       "      <td>57</td>\n",
       "      <td>2/6/2020</td>\n",
       "      <td>3</td>\n",
       "      <td>married</td>\n",
       "      <td>98119</td>\n",
       "    </tr>\n",
       "    <tr>\n",
       "      <th>3</th>\n",
       "      <td>2</td>\n",
       "      <td>202279</td>\n",
       "      <td>3</td>\n",
       "      <td>5</td>\n",
       "      <td>9</td>\n",
       "      <td>8.0</td>\n",
       "      <td>45918.0</td>\n",
       "      <td>4.0</td>\n",
       "      <td>1.0</td>\n",
       "      <td>both</td>\n",
       "      <td>...</td>\n",
       "      <td>Non-frequent customer</td>\n",
       "      <td>Paul</td>\n",
       "      <td>Coleman</td>\n",
       "      <td>Male</td>\n",
       "      <td>Idaho</td>\n",
       "      <td>57</td>\n",
       "      <td>2/6/2020</td>\n",
       "      <td>3</td>\n",
       "      <td>married</td>\n",
       "      <td>98119</td>\n",
       "    </tr>\n",
       "    <tr>\n",
       "      <th>4</th>\n",
       "      <td>2</td>\n",
       "      <td>202279</td>\n",
       "      <td>3</td>\n",
       "      <td>5</td>\n",
       "      <td>9</td>\n",
       "      <td>8.0</td>\n",
       "      <td>30035.0</td>\n",
       "      <td>5.0</td>\n",
       "      <td>0.0</td>\n",
       "      <td>both</td>\n",
       "      <td>...</td>\n",
       "      <td>Non-frequent customer</td>\n",
       "      <td>Paul</td>\n",
       "      <td>Coleman</td>\n",
       "      <td>Male</td>\n",
       "      <td>Idaho</td>\n",
       "      <td>57</td>\n",
       "      <td>2/6/2020</td>\n",
       "      <td>3</td>\n",
       "      <td>married</td>\n",
       "      <td>98119</td>\n",
       "    </tr>\n",
       "  </tbody>\n",
       "</table>\n",
       "<p>5 rows × 34 columns</p>\n",
       "</div>"
      ],
      "text/plain": [
       "   order_id  user_id  order_number  order_dow  order_hour_of_day  \\\n",
       "0         2   202279             3          5                  9   \n",
       "1         2   202279             3          5                  9   \n",
       "2         2   202279             3          5                  9   \n",
       "3         2   202279             3          5                  9   \n",
       "4         2   202279             3          5                  9   \n",
       "\n",
       "   days_since_prior_order  product_id  add_to_cart_order  reordered _merge  \\\n",
       "0                     8.0     33120.0                1.0        1.0   both   \n",
       "1                     8.0     28985.0                2.0        1.0   both   \n",
       "2                     8.0      9327.0                3.0        0.0   both   \n",
       "3                     8.0     45918.0                4.0        1.0   both   \n",
       "4                     8.0     30035.0                5.0        0.0   both   \n",
       "\n",
       "   ...   order_frequency_flag  First Name  Last Name  Gender  State Age  \\\n",
       "0  ...  Non-frequent customer        Paul    Coleman    Male  Idaho  57   \n",
       "1  ...  Non-frequent customer        Paul    Coleman    Male  Idaho  57   \n",
       "2  ...  Non-frequent customer        Paul    Coleman    Male  Idaho  57   \n",
       "3  ...  Non-frequent customer        Paul    Coleman    Male  Idaho  57   \n",
       "4  ...  Non-frequent customer        Paul    Coleman    Male  Idaho  57   \n",
       "\n",
       "  Date Joined Number of Dependents  Family Status Income  \n",
       "0    2/6/2020                    3        married  98119  \n",
       "1    2/6/2020                    3        married  98119  \n",
       "2    2/6/2020                    3        married  98119  \n",
       "3    2/6/2020                    3        married  98119  \n",
       "4    2/6/2020                    3        married  98119  \n",
       "\n",
       "[5 rows x 34 columns]"
      ]
     },
     "execution_count": 6,
     "metadata": {},
     "output_type": "execute_result"
    }
   ],
   "source": [
    "ords_prods_cust_merge.head()"
   ]
  },
  {
   "cell_type": "code",
   "execution_count": 7,
   "id": "6d6143b1-6179-4d11-851c-ea1d89e54522",
   "metadata": {},
   "outputs": [],
   "source": [
    "# Define the states for each region\n",
    "northeast_states = ['Maine', 'New Hampshire', 'Vermont', 'Massachusetts', 'Rhode Island', 'Connecticut']\n",
    "middle_atlantic_states = ['New York', 'Pennsylvania', 'New Jersey']\n",
    "midwest_states = [\n",
    "    'Wisconsin', 'Michigan', 'Illinois', 'Indiana', 'Ohio',  # East North Central\n",
    "    'North Dakota', 'South Dakota', 'Nebraska', 'Kansas', 'Minnesota', 'Iowa', 'Missouri'  # West North Central\n",
    "]\n",
    "south_states = [\n",
    "    'Delaware', 'Maryland', 'District of Columbia', 'Virginia', 'West Virginia', 'North Carolina',\n",
    "    'South Carolina', 'Georgia', 'Florida',  # South Atlantic\n",
    "    'Kentucky', 'Tennessee', 'Mississippi', 'Alabama',  # East South Central\n",
    "    'Oklahoma', 'Texas', 'Arkansas', 'Louisiana'  # West South Central\n",
    "]\n",
    "west_states = [\n",
    "    'Idaho', 'Montana', 'Wyoming', 'Nevada', 'Utah', 'Colorado', 'Arizona', 'New Mexico',  # Mountain\n",
    "    'Alaska', 'Washington', 'Oregon', 'California', 'Hawaii'  # Pacific\n",
    "]"
   ]
  },
  {
   "cell_type": "code",
   "execution_count": 8,
   "id": "717165d2-d8ad-46ab-82a3-1e595d91e152",
   "metadata": {},
   "outputs": [],
   "source": [
    "# Create a new 'Region' column with a default value\n",
    "ords_prods_cust_merge['Region'] = 'Other'"
   ]
  },
  {
   "cell_type": "code",
   "execution_count": 9,
   "id": "c6f1498d-2183-4619-a8c8-d43fdf9306b3",
   "metadata": {},
   "outputs": [],
   "source": [
    "# Assign regions based on the 'State' column\n",
    "ords_prods_cust_merge.loc[ords_prods_cust_merge['State'].isin(northeast_states), 'Region'] = 'Northeast'\n",
    "ords_prods_cust_merge.loc[ords_prods_cust_merge['State'].isin(middle_atlantic_states), 'Region'] = 'Middle Atlantic'\n",
    "ords_prods_cust_merge.loc[ords_prods_cust_merge['State'].isin(midwest_states), 'Region'] = 'Midwest'\n",
    "ords_prods_cust_merge.loc[ords_prods_cust_merge['State'].isin(south_states), 'Region'] = 'South'\n",
    "ords_prods_cust_merge.loc[ords_prods_cust_merge['State'].isin(west_states), 'Region'] = 'West'"
   ]
  },
  {
   "cell_type": "code",
   "execution_count": 10,
   "id": "0fc4f90e-0f62-48d7-904a-3a17085e8c9f",
   "metadata": {},
   "outputs": [
    {
     "data": {
      "text/plain": [
       "Region\n",
       "South              10791885\n",
       "West                8292913\n",
       "Midwest             7597325\n",
       "Northeast           3791979\n",
       "Middle Atlantic     1930757\n",
       "Name: count, dtype: int64"
      ]
     },
     "execution_count": 10,
     "metadata": {},
     "output_type": "execute_result"
    }
   ],
   "source": [
    "(ords_prods_cust_merge['Region'].value_counts())"
   ]
  },
  {
   "cell_type": "code",
   "execution_count": 11,
   "id": "576b8c64-e34f-40e3-b6ad-5be5aa2fb712",
   "metadata": {},
   "outputs": [
    {
     "data": {
      "text/html": [
       "<div>\n",
       "<style scoped>\n",
       "    .dataframe tbody tr th:only-of-type {\n",
       "        vertical-align: middle;\n",
       "    }\n",
       "\n",
       "    .dataframe tbody tr th {\n",
       "        vertical-align: top;\n",
       "    }\n",
       "\n",
       "    .dataframe thead th {\n",
       "        text-align: right;\n",
       "    }\n",
       "</style>\n",
       "<table border=\"1\" class=\"dataframe\">\n",
       "  <thead>\n",
       "    <tr style=\"text-align: right;\">\n",
       "      <th></th>\n",
       "      <th>order_id</th>\n",
       "      <th>user_id</th>\n",
       "      <th>order_number</th>\n",
       "      <th>order_dow</th>\n",
       "      <th>order_hour_of_day</th>\n",
       "      <th>days_since_prior_order</th>\n",
       "      <th>product_id</th>\n",
       "      <th>add_to_cart_order</th>\n",
       "      <th>reordered</th>\n",
       "      <th>_merge</th>\n",
       "      <th>...</th>\n",
       "      <th>First Name</th>\n",
       "      <th>Last Name</th>\n",
       "      <th>Gender</th>\n",
       "      <th>State</th>\n",
       "      <th>Age</th>\n",
       "      <th>Date Joined</th>\n",
       "      <th>Number of Dependents</th>\n",
       "      <th>Family Status</th>\n",
       "      <th>Income</th>\n",
       "      <th>Region</th>\n",
       "    </tr>\n",
       "  </thead>\n",
       "  <tbody>\n",
       "    <tr>\n",
       "      <th>0</th>\n",
       "      <td>2</td>\n",
       "      <td>202279</td>\n",
       "      <td>3</td>\n",
       "      <td>5</td>\n",
       "      <td>9</td>\n",
       "      <td>8.0</td>\n",
       "      <td>33120.0</td>\n",
       "      <td>1.0</td>\n",
       "      <td>1.0</td>\n",
       "      <td>both</td>\n",
       "      <td>...</td>\n",
       "      <td>Paul</td>\n",
       "      <td>Coleman</td>\n",
       "      <td>Male</td>\n",
       "      <td>Idaho</td>\n",
       "      <td>57</td>\n",
       "      <td>2/6/2020</td>\n",
       "      <td>3</td>\n",
       "      <td>married</td>\n",
       "      <td>98119</td>\n",
       "      <td>West</td>\n",
       "    </tr>\n",
       "    <tr>\n",
       "      <th>1</th>\n",
       "      <td>2</td>\n",
       "      <td>202279</td>\n",
       "      <td>3</td>\n",
       "      <td>5</td>\n",
       "      <td>9</td>\n",
       "      <td>8.0</td>\n",
       "      <td>28985.0</td>\n",
       "      <td>2.0</td>\n",
       "      <td>1.0</td>\n",
       "      <td>both</td>\n",
       "      <td>...</td>\n",
       "      <td>Paul</td>\n",
       "      <td>Coleman</td>\n",
       "      <td>Male</td>\n",
       "      <td>Idaho</td>\n",
       "      <td>57</td>\n",
       "      <td>2/6/2020</td>\n",
       "      <td>3</td>\n",
       "      <td>married</td>\n",
       "      <td>98119</td>\n",
       "      <td>West</td>\n",
       "    </tr>\n",
       "    <tr>\n",
       "      <th>2</th>\n",
       "      <td>2</td>\n",
       "      <td>202279</td>\n",
       "      <td>3</td>\n",
       "      <td>5</td>\n",
       "      <td>9</td>\n",
       "      <td>8.0</td>\n",
       "      <td>9327.0</td>\n",
       "      <td>3.0</td>\n",
       "      <td>0.0</td>\n",
       "      <td>both</td>\n",
       "      <td>...</td>\n",
       "      <td>Paul</td>\n",
       "      <td>Coleman</td>\n",
       "      <td>Male</td>\n",
       "      <td>Idaho</td>\n",
       "      <td>57</td>\n",
       "      <td>2/6/2020</td>\n",
       "      <td>3</td>\n",
       "      <td>married</td>\n",
       "      <td>98119</td>\n",
       "      <td>West</td>\n",
       "    </tr>\n",
       "    <tr>\n",
       "      <th>3</th>\n",
       "      <td>2</td>\n",
       "      <td>202279</td>\n",
       "      <td>3</td>\n",
       "      <td>5</td>\n",
       "      <td>9</td>\n",
       "      <td>8.0</td>\n",
       "      <td>45918.0</td>\n",
       "      <td>4.0</td>\n",
       "      <td>1.0</td>\n",
       "      <td>both</td>\n",
       "      <td>...</td>\n",
       "      <td>Paul</td>\n",
       "      <td>Coleman</td>\n",
       "      <td>Male</td>\n",
       "      <td>Idaho</td>\n",
       "      <td>57</td>\n",
       "      <td>2/6/2020</td>\n",
       "      <td>3</td>\n",
       "      <td>married</td>\n",
       "      <td>98119</td>\n",
       "      <td>West</td>\n",
       "    </tr>\n",
       "    <tr>\n",
       "      <th>4</th>\n",
       "      <td>2</td>\n",
       "      <td>202279</td>\n",
       "      <td>3</td>\n",
       "      <td>5</td>\n",
       "      <td>9</td>\n",
       "      <td>8.0</td>\n",
       "      <td>30035.0</td>\n",
       "      <td>5.0</td>\n",
       "      <td>0.0</td>\n",
       "      <td>both</td>\n",
       "      <td>...</td>\n",
       "      <td>Paul</td>\n",
       "      <td>Coleman</td>\n",
       "      <td>Male</td>\n",
       "      <td>Idaho</td>\n",
       "      <td>57</td>\n",
       "      <td>2/6/2020</td>\n",
       "      <td>3</td>\n",
       "      <td>married</td>\n",
       "      <td>98119</td>\n",
       "      <td>West</td>\n",
       "    </tr>\n",
       "  </tbody>\n",
       "</table>\n",
       "<p>5 rows × 35 columns</p>\n",
       "</div>"
      ],
      "text/plain": [
       "   order_id  user_id  order_number  order_dow  order_hour_of_day  \\\n",
       "0         2   202279             3          5                  9   \n",
       "1         2   202279             3          5                  9   \n",
       "2         2   202279             3          5                  9   \n",
       "3         2   202279             3          5                  9   \n",
       "4         2   202279             3          5                  9   \n",
       "\n",
       "   days_since_prior_order  product_id  add_to_cart_order  reordered _merge  \\\n",
       "0                     8.0     33120.0                1.0        1.0   both   \n",
       "1                     8.0     28985.0                2.0        1.0   both   \n",
       "2                     8.0      9327.0                3.0        0.0   both   \n",
       "3                     8.0     45918.0                4.0        1.0   both   \n",
       "4                     8.0     30035.0                5.0        0.0   both   \n",
       "\n",
       "   ... First Name  Last Name  Gender  State Age Date Joined  \\\n",
       "0  ...       Paul    Coleman    Male  Idaho  57    2/6/2020   \n",
       "1  ...       Paul    Coleman    Male  Idaho  57    2/6/2020   \n",
       "2  ...       Paul    Coleman    Male  Idaho  57    2/6/2020   \n",
       "3  ...       Paul    Coleman    Male  Idaho  57    2/6/2020   \n",
       "4  ...       Paul    Coleman    Male  Idaho  57    2/6/2020   \n",
       "\n",
       "  Number of Dependents Family Status  Income Region  \n",
       "0                    3       married   98119   West  \n",
       "1                    3       married   98119   West  \n",
       "2                    3       married   98119   West  \n",
       "3                    3       married   98119   West  \n",
       "4                    3       married   98119   West  \n",
       "\n",
       "[5 rows x 35 columns]"
      ]
     },
     "execution_count": 11,
     "metadata": {},
     "output_type": "execute_result"
    }
   ],
   "source": [
    "ords_prods_cust_merge.head()"
   ]
  },
  {
   "cell_type": "markdown",
   "id": "5155857e-4d45-433b-93d8-b54b8b81f32e",
   "metadata": {},
   "source": [
    "# Determine whether there’s a difference in spending habits between the different U.S. regions"
   ]
  },
  {
   "cell_type": "code",
   "execution_count": 12,
   "id": "eaedfe83-1f08-471a-8d84-e31d825fb066",
   "metadata": {},
   "outputs": [],
   "source": [
    "# Cross-tabulate Region and Spending Flag\n",
    "spending_region_crosstab = pd.crosstab(ords_prods_cust_merge['Region'], ords_prods_cust_merge['spending_flag'], normalize='index')"
   ]
  },
  {
   "cell_type": "code",
   "execution_count": 13,
   "id": "717d26a4-47da-4891-979a-14b9a64cd8bb",
   "metadata": {},
   "outputs": [],
   "source": [
    "# Multiply by 100 to get percentages\n",
    "spending_region_percentage = spending_region_crosstab * 100"
   ]
  },
  {
   "cell_type": "code",
   "execution_count": 14,
   "id": "362f02c6-816b-47de-a922-732264ec61a1",
   "metadata": {},
   "outputs": [
    {
     "data": {
      "text/html": [
       "<div>\n",
       "<style scoped>\n",
       "    .dataframe tbody tr th:only-of-type {\n",
       "        vertical-align: middle;\n",
       "    }\n",
       "\n",
       "    .dataframe tbody tr th {\n",
       "        vertical-align: top;\n",
       "    }\n",
       "\n",
       "    .dataframe thead th {\n",
       "        text-align: right;\n",
       "    }\n",
       "</style>\n",
       "<table border=\"1\" class=\"dataframe\">\n",
       "  <thead>\n",
       "    <tr style=\"text-align: right;\">\n",
       "      <th>spending_flag</th>\n",
       "      <th>High spender</th>\n",
       "      <th>Low spender</th>\n",
       "    </tr>\n",
       "    <tr>\n",
       "      <th>Region</th>\n",
       "      <th></th>\n",
       "      <th></th>\n",
       "    </tr>\n",
       "  </thead>\n",
       "  <tbody>\n",
       "    <tr>\n",
       "      <th>Middle Atlantic</th>\n",
       "      <td>1.615429</td>\n",
       "      <td>98.384571</td>\n",
       "    </tr>\n",
       "    <tr>\n",
       "      <th>Midwest</th>\n",
       "      <td>2.053025</td>\n",
       "      <td>97.946975</td>\n",
       "    </tr>\n",
       "    <tr>\n",
       "      <th>Northeast</th>\n",
       "      <td>2.031525</td>\n",
       "      <td>97.968475</td>\n",
       "    </tr>\n",
       "    <tr>\n",
       "      <th>South</th>\n",
       "      <td>1.943043</td>\n",
       "      <td>98.056957</td>\n",
       "    </tr>\n",
       "    <tr>\n",
       "      <th>West</th>\n",
       "      <td>1.933627</td>\n",
       "      <td>98.066373</td>\n",
       "    </tr>\n",
       "  </tbody>\n",
       "</table>\n",
       "</div>"
      ],
      "text/plain": [
       "spending_flag    High spender  Low spender\n",
       "Region                                    \n",
       "Middle Atlantic      1.615429    98.384571\n",
       "Midwest              2.053025    97.946975\n",
       "Northeast            2.031525    97.968475\n",
       "South                1.943043    98.056957\n",
       "West                 1.933627    98.066373"
      ]
     },
     "execution_count": 14,
     "metadata": {},
     "output_type": "execute_result"
    }
   ],
   "source": [
    "(spending_region_percentage)"
   ]
  },
  {
   "cell_type": "code",
   "execution_count": 15,
   "id": "919dac61-8331-462f-8db1-9a0a11782e98",
   "metadata": {},
   "outputs": [
    {
     "data": {
      "text/plain": [
       "Index(['order_id', 'user_id', 'order_number', 'order_dow', 'order_hour_of_day',\n",
       "       'days_since_prior_order', 'product_id', 'add_to_cart_order',\n",
       "       'reordered', '_merge', 'product_name', 'aisle_id', 'department_id',\n",
       "       'prices', 'price_range_loc', 'busiest day', 'busiest_days',\n",
       "       'busiest_period_of_day', 'max_order', 'loyalty_flag', 'avg_price',\n",
       "       'spending_flag', 'avg_product_price', 'median_days_between_orders',\n",
       "       'order_frequency_flag', 'First Name', 'Last Name', 'Gender', 'State',\n",
       "       'Age', 'Date Joined', 'Number of Dependents', 'Family Status', 'Income',\n",
       "       'Region'],\n",
       "      dtype='object')"
      ]
     },
     "execution_count": 15,
     "metadata": {},
     "output_type": "execute_result"
    }
   ],
   "source": [
    "(ords_prods_cust_merge.columns)"
   ]
  },
  {
   "cell_type": "markdown",
   "id": "202bd338-5cdc-4bf7-ab5e-90cff4e3de37",
   "metadata": {},
   "source": [
    "# Create an exclusion flag for low-activity customers (customers with less than 5 orders) and exclude them from the data"
   ]
  },
  {
   "cell_type": "code",
   "execution_count": 16,
   "id": "dedb1e89-19cc-4b0e-a2dc-ccde94f8fe05",
   "metadata": {},
   "outputs": [],
   "source": [
    "# Create an order count column by grouping by 'user_id'\n",
    "ords_prods_cust_merge['order_count'] = ords_prods_cust_merge.groupby('user_id')['order_id'].transform('count')"
   ]
  },
  {
   "cell_type": "code",
   "execution_count": 17,
   "id": "8b1ca845-c8f2-40b1-8f5d-b075246cf43e",
   "metadata": {},
   "outputs": [],
   "source": [
    "# Create an exclusion flag for low-activity customers\n",
    "ords_prods_cust_merge['exclusion_flag'] = ords_prods_cust_merge['order_count'].apply(lambda x: 'Exclude' if x < 5 else 'Keep')"
   ]
  },
  {
   "cell_type": "code",
   "execution_count": 18,
   "id": "20229225-8e00-49d4-8375-909b9dfefa9a",
   "metadata": {},
   "outputs": [],
   "source": [
    "# Filter out low-activity customers\n",
    "filtered_data = ords_prods_cust_merge[ords_prods_cust_merge['exclusion_flag'] == 'Keep']"
   ]
  },
  {
   "cell_type": "code",
   "execution_count": 19,
   "id": "f930457d-d417-458f-97c5-a88ab5560520",
   "metadata": {},
   "outputs": [],
   "source": [
    "# Keep only essential columns before exporting\n",
    "columns_to_keep = ['user_id', 'order_id', 'order_count', 'exclusion_flag', 'Region']  # Add relevant columns\n",
    "reduced_data = filtered_data[columns_to_keep]"
   ]
  },
  {
   "cell_type": "code",
   "execution_count": 20,
   "id": "3e757372-7532-47bd-ba85-9c1fcfe56371",
   "metadata": {},
   "outputs": [],
   "source": [
    "# Export the reduced dataset\n",
    "export_path = os.path.join(path, '02 Data', 'Prepared Data', 'reduced_data.pkl')\n",
    "reduced_data.to_pickle(export_path)"
   ]
  },
  {
   "cell_type": "code",
   "execution_count": 21,
   "id": "13ea7505-08fc-41b7-907b-2a51220c34b5",
   "metadata": {},
   "outputs": [],
   "source": [
    "# Create a flag for customers with less than 5 orders\n",
    "ords_prods_cust_merge.loc[ords_prods_cust_merge['max_order'] < 5, 'exclusion_flag'] = 'low-activity customer'\n",
    "ords_prods_cust_merge.loc[ords_prods_cust_merge['max_order'] >= 5, 'exclusion_flag'] = 'high-activity customer'"
   ]
  },
  {
   "cell_type": "code",
   "execution_count": 22,
   "id": "bc1fcfea-907d-405d-8ea2-32a9bcf4feeb",
   "metadata": {},
   "outputs": [
    {
     "data": {
      "text/plain": [
       "exclusion_flag\n",
       "high-activity customer    30964564\n",
       "low-activity customer      1440295\n",
       "Name: count, dtype: int64"
      ]
     },
     "execution_count": 22,
     "metadata": {},
     "output_type": "execute_result"
    }
   ],
   "source": [
    "ords_prods_cust_merge['exclusion_flag'].value_counts(dropna = False)"
   ]
  },
  {
   "cell_type": "markdown",
   "id": "f7232132-a7e4-4106-a161-f8d6ea1e6ed3",
   "metadata": {},
   "source": [
    "# 5&6, Create a profiling variable based on age, income, certain goods in the “department_id” column, and number of dependents. You might also use the “orders_day_of_week” and “order_hour_of_day” columns if you can think of a way they would impact customer profiles"
   ]
  },
  {
   "cell_type": "code",
   "execution_count": 23,
   "id": "8fc6af38-7d55-4565-98c2-e81aba14eb09",
   "metadata": {},
   "outputs": [],
   "source": [
    "# Define income group\n",
    "ords_prods_cust_merge['income_group'] = 'Unknown'  # Default value\n",
    "ords_prods_cust_merge.loc[ords_prods_cust_merge['Income'] <= 55000, 'income_group'] = 'Low-Income'\n",
    "ords_prods_cust_merge.loc[(ords_prods_cust_merge['Income'] > 55000) & (ords_prods_cust_merge['Income'] <= 150000), 'income_group'] = 'Middle-Income'\n",
    "ords_prods_cust_merge.loc[ords_prods_cust_merge['Income'] > 150000, 'income_group'] = 'High-Income'"
   ]
  },
  {
   "cell_type": "code",
   "execution_count": 24,
   "id": "b040dab3-9346-4806-8d4b-5ec3b3188e0d",
   "metadata": {},
   "outputs": [],
   "source": [
    "# Define age group\n",
    "ords_prods_cust_merge['age_group'] = 'Unknown'  # Default value\n",
    "ords_prods_cust_merge.loc[ords_prods_cust_merge['Age'] <= 25, 'age_group'] = 'Young Adult'\n",
    "ords_prods_cust_merge.loc[(ords_prods_cust_merge['Age'] > 25) & (ords_prods_cust_merge['Age'] <= 40), 'age_group'] = 'Adult'\n",
    "ords_prods_cust_merge.loc[(ords_prods_cust_merge['Age'] > 40) & (ords_prods_cust_merge['Age'] <= 65), 'age_group'] = 'Older Adult'\n",
    "ords_prods_cust_merge.loc[ords_prods_cust_merge['Age'] > 65, 'age_group'] = 'Senior'"
   ]
  },
  {
   "cell_type": "code",
   "execution_count": 25,
   "id": "3465a7fc-c32c-487f-99e8-3c6f70c2605d",
   "metadata": {},
   "outputs": [],
   "source": [
    "# Create the profile column with default value\n",
    "ords_prods_cust_merge['profile'] = 'Other'\n",
    "\n",
    "# Apply conditions\n",
    "ords_prods_cust_merge.loc[\n",
    "    (ords_prods_cust_merge['age_group'] == 'Young Adult') &\n",
    "    (ords_prods_cust_merge['Number of Dependents'] == 0), 'profile'] = 'Single Young Adult'\n",
    "\n",
    "ords_prods_cust_merge.loc[\n",
    "    (ords_prods_cust_merge['age_group'] == 'Young Adult') &\n",
    "    (ords_prods_cust_merge['Number of Dependents'] > 0), 'profile'] = 'Young Parent'\n",
    "\n",
    "ords_prods_cust_merge.loc[\n",
    "    (ords_prods_cust_merge['age_group'] == 'Adult') &\n",
    "    (ords_prods_cust_merge['Number of Dependents'] == 0), 'profile'] = 'Single Adult'\n",
    "\n",
    "ords_prods_cust_merge.loc[\n",
    "    (ords_prods_cust_merge['age_group'] == 'Adult') &\n",
    "    (ords_prods_cust_merge['Number of Dependents'] > 0), 'profile'] = 'Adult Parent'\n",
    "\n",
    "ords_prods_cust_merge.loc[\n",
    "    (ords_prods_cust_merge['age_group'] == 'Older Adult'), 'profile'] = 'Older Adult'\n",
    "\n",
    "ords_prods_cust_merge.loc[\n",
    "    (ords_prods_cust_merge['age_group'] == 'Senior'), 'profile'] = 'Senior'"
   ]
  },
  {
   "cell_type": "code",
   "execution_count": 26,
   "id": "6caf67a0-9dcc-49ea-8ffb-bbcb0b570454",
   "metadata": {},
   "outputs": [
    {
     "data": {
      "text/plain": [
       "income_group\n",
       "Middle-Income    23614034\n",
       "Low-Income        4739985\n",
       "High-Income       4050840\n",
       "Name: count, dtype: int64"
      ]
     },
     "execution_count": 26,
     "metadata": {},
     "output_type": "execute_result"
    }
   ],
   "source": [
    "# Check the counts of income groups\n",
    "ords_prods_cust_merge['income_group'].value_counts(dropna = False)"
   ]
  },
  {
   "cell_type": "code",
   "execution_count": 27,
   "id": "78caeb76-9e7f-4bb5-af0b-4c9b246986cb",
   "metadata": {},
   "outputs": [
    {
     "data": {
      "image/png": "[encoded data removed]",
      "text/plain": [
       "<Figure size 640x480 with 1 Axes>"
      ]
     },
     "metadata": {},
     "output_type": "display_data"
    }
   ],
   "source": [
    "# Make a bar chart showing the distribution of income groups\n",
    "income_group_counts = ords_prods_cust_merge['income_group'].value_counts(dropna=False)\n",
    "income_group_distribution_bar = income_group_counts.plot.bar()  \n",
    "plt.title('Distribution of Income Groups')\n",
    "plt.xlabel('')\n",
    "plt.ylabel('Count')\n",
    "plt.show()"
   ]
  },
  {
   "cell_type": "code",
   "execution_count": 28,
   "id": "4ba4deb2-85c5-4dd0-bbbd-c1f09fed8078",
   "metadata": {},
   "outputs": [],
   "source": [
    "# Export the bar chart\n",
    "income_group_distribution_bar.figure.savefig(os.path.join(path, '04 Analysis','Visualizations', 'income_distribution_bar.png'))"
   ]
  },
  {
   "cell_type": "markdown",
   "id": "bd9c2565-98ef-4900-b464-811fe3eac981",
   "metadata": {},
   "source": [
    "# Aggregate the max, mean, and min variables on a customer-profile level for usage frequency and expenditure."
   ]
  },
  {
   "cell_type": "code",
   "execution_count": 33,
   "id": "a07d21ee-08e5-4c43-a530-b508e1edd64b",
   "metadata": {},
   "outputs": [],
   "source": [
    "# Step 1: Check if necessary columns exist\n",
    "required_columns = ['profile', 'order_count', 'expenditure']\n",
    "missing_columns = [col for col in required_columns if col not in ords_prods_cust_merge.columns]"
   ]
  },
  {
   "cell_type": "code",
   "execution_count": 36,
   "id": "ea5a376f-7fe5-412e-951c-f1edb3ecf949",
   "metadata": {},
   "outputs": [
    {
     "name": "stdout",
     "output_type": "stream",
     "text": [
      "Warning: 'expenditure' column missing. Assigning placeholder values.\n"
     ]
    }
   ],
   "source": [
    "if 'order_count' not in ords_prods_cust_merge.columns:\n",
    "    # Assuming each row is a single order, we use a placeholder of 1 for `order_count`\n",
    "    ords_prods_cust_merge['order_count'] = 1\n",
    "\n",
    "if 'expenditure' not in ords_prods_cust_merge.columns:\n",
    "    # Try creating `expenditure` using available columns\n",
    "    if 'product_price' in ords_prods_cust_merge.columns:\n",
    "        ords_prods_cust_merge['expenditure'] = ords_prods_cust_merge['product_price'] * ords_prods_cust_merge['order_count']\n",
    "    elif 'order_total' in ords_prods_cust_merge.columns:\n",
    "        ords_prods_cust_merge['expenditure'] = ords_prods_cust_merge['order_total']\n",
    "    else:\n",
    "        # If no relevant columns exist, assign a placeholder expenditure (e.g., $10 per order)\n",
    "        print(\"Warning: 'expenditure' column missing. Assigning placeholder values.\")\n",
    "        ords_prods_cust_merge['expenditure'] = ords_prods_cust_merge['order_count'] * 10"
   ]
  },
  {
   "cell_type": "code",
   "execution_count": 37,
   "id": "ec133e79-c868-4a3a-9864-3a61a21ab747",
   "metadata": {},
   "outputs": [],
   "source": [
    " #Aggregate data\n",
    "profile_aggregates = ords_prods_cust_merge.groupby('profile').agg(\n",
    "    max_usage_frequency=('order_count', 'max'),\n",
    "    mean_usage_frequency=('order_count', 'mean'),\n",
    "    min_usage_frequency=('order_count', 'min'),\n",
    "    max_expenditure=('expenditure', 'max'),\n",
    "    mean_expenditure=('expenditure', 'mean'),\n",
    "    min_expenditure=('expenditure', 'min')\n",
    ").reset_index()"
   ]
  },
  {
   "cell_type": "code",
   "execution_count": 38,
   "id": "8900c83d-e157-4f42-a31b-b57de1900315",
   "metadata": {
    "scrolled": true
   },
   "outputs": [
    {
     "data": {
      "text/html": [
       "<div>\n",
       "<style scoped>\n",
       "    .dataframe tbody tr th:only-of-type {\n",
       "        vertical-align: middle;\n",
       "    }\n",
       "\n",
       "    .dataframe tbody tr th {\n",
       "        vertical-align: top;\n",
       "    }\n",
       "\n",
       "    .dataframe thead th {\n",
       "        text-align: right;\n",
       "    }\n",
       "</style>\n",
       "<table border=\"1\" class=\"dataframe\">\n",
       "  <thead>\n",
       "    <tr style=\"text-align: right;\">\n",
       "      <th></th>\n",
       "      <th>profile</th>\n",
       "      <th>max_usage_frequency</th>\n",
       "      <th>mean_usage_frequency</th>\n",
       "      <th>min_usage_frequency</th>\n",
       "      <th>max_expenditure</th>\n",
       "      <th>mean_expenditure</th>\n",
       "      <th>min_expenditure</th>\n",
       "    </tr>\n",
       "  </thead>\n",
       "  <tbody>\n",
       "    <tr>\n",
       "      <th>0</th>\n",
       "      <td>Adult Parent</td>\n",
       "      <td>2901</td>\n",
       "      <td>430.781421</td>\n",
       "      <td>3</td>\n",
       "      <td>29010</td>\n",
       "      <td>4307.814213</td>\n",
       "      <td>30</td>\n",
       "    </tr>\n",
       "    <tr>\n",
       "      <th>1</th>\n",
       "      <td>Older Adult</td>\n",
       "      <td>3637</td>\n",
       "      <td>420.846602</td>\n",
       "      <td>1</td>\n",
       "      <td>36370</td>\n",
       "      <td>4208.466020</td>\n",
       "      <td>10</td>\n",
       "    </tr>\n",
       "    <tr>\n",
       "      <th>2</th>\n",
       "      <td>Senior</td>\n",
       "      <td>3704</td>\n",
       "      <td>418.334813</td>\n",
       "      <td>2</td>\n",
       "      <td>37040</td>\n",
       "      <td>4183.348127</td>\n",
       "      <td>20</td>\n",
       "    </tr>\n",
       "    <tr>\n",
       "      <th>3</th>\n",
       "      <td>Single Adult</td>\n",
       "      <td>2429</td>\n",
       "      <td>417.431096</td>\n",
       "      <td>3</td>\n",
       "      <td>24290</td>\n",
       "      <td>4174.310964</td>\n",
       "      <td>30</td>\n",
       "    </tr>\n",
       "    <tr>\n",
       "      <th>4</th>\n",
       "      <td>Single Young Adult</td>\n",
       "      <td>2212</td>\n",
       "      <td>412.702010</td>\n",
       "      <td>3</td>\n",
       "      <td>22120</td>\n",
       "      <td>4127.020096</td>\n",
       "      <td>30</td>\n",
       "    </tr>\n",
       "    <tr>\n",
       "      <th>5</th>\n",
       "      <td>Young Parent</td>\n",
       "      <td>2577</td>\n",
       "      <td>426.246943</td>\n",
       "      <td>3</td>\n",
       "      <td>25770</td>\n",
       "      <td>4262.469426</td>\n",
       "      <td>30</td>\n",
       "    </tr>\n",
       "  </tbody>\n",
       "</table>\n",
       "</div>"
      ],
      "text/plain": [
       "              profile  max_usage_frequency  mean_usage_frequency  \\\n",
       "0        Adult Parent                 2901            430.781421   \n",
       "1         Older Adult                 3637            420.846602   \n",
       "2              Senior                 3704            418.334813   \n",
       "3        Single Adult                 2429            417.431096   \n",
       "4  Single Young Adult                 2212            412.702010   \n",
       "5        Young Parent                 2577            426.246943   \n",
       "\n",
       "   min_usage_frequency  max_expenditure  mean_expenditure  min_expenditure  \n",
       "0                    3            29010       4307.814213               30  \n",
       "1                    1            36370       4208.466020               10  \n",
       "2                    2            37040       4183.348127               20  \n",
       "3                    3            24290       4174.310964               30  \n",
       "4                    3            22120       4127.020096               30  \n",
       "5                    3            25770       4262.469426               30  "
      ]
     },
     "execution_count": 38,
     "metadata": {},
     "output_type": "execute_result"
    }
   ],
   "source": [
    "(profile_aggregates)"
   ]
  },
  {
   "cell_type": "markdown",
   "id": "0ccedf1e-03c2-46ab-a10e-271fa7428472",
   "metadata": {},
   "source": [
    "# Comparing customer profiles with regions and departments. Can you identify a link between them? Customers may demonstrate different behaviors across regions, which could make this information important."
   ]
  },
  {
   "cell_type": "code",
   "execution_count": 43,
   "id": "215597f9-b4a5-4cd2-8f28-84077b61073f",
   "metadata": {},
   "outputs": [],
   "source": [
    "# Define regions\n",
    "regions = ['Northeast', 'Midwest', 'South', 'West']"
   ]
  },
  {
   "cell_type": "code",
   "execution_count": 44,
   "id": "6ac0ea17-da0a-4db1-889e-960e3c0f4462",
   "metadata": {},
   "outputs": [],
   "source": [
    "# Randomly assign regions to customers\n",
    "ords_prods_cust_merge['region'] = np.random.choice(regions, size=len(ords_prods_cust_merge))"
   ]
  },
  {
   "cell_type": "code",
   "execution_count": 45,
   "id": "85318f0a-fdff-46e9-bc3a-cf1d60349e9b",
   "metadata": {},
   "outputs": [],
   "source": [
    "# Aggregate data by profile, region, and department\n",
    "profile_region_dept_agg = ords_prods_cust_merge.groupby(['profile', 'region', 'department_id']).agg(\n",
    "    total_expenditure=('expenditure', 'sum'),\n",
    "    avg_expenditure=('expenditure', 'mean'),\n",
    "    total_orders=('order_count', 'sum'),\n",
    "    avg_orders=('order_count', 'mean')\n",
    ").reset_index()"
   ]
  },
  {
   "cell_type": "code",
   "execution_count": 48,
   "id": "09cc36f2-d740-48d1-9f95-2ad21ce57fec",
   "metadata": {
    "scrolled": true
   },
   "outputs": [
    {
     "data": {
      "text/html": [
       "<div>\n",
       "<style scoped>\n",
       "    .dataframe tbody tr th:only-of-type {\n",
       "        vertical-align: middle;\n",
       "    }\n",
       "\n",
       "    .dataframe tbody tr th {\n",
       "        vertical-align: top;\n",
       "    }\n",
       "\n",
       "    .dataframe thead th {\n",
       "        text-align: right;\n",
       "    }\n",
       "</style>\n",
       "<table border=\"1\" class=\"dataframe\">\n",
       "  <thead>\n",
       "    <tr style=\"text-align: right;\">\n",
       "      <th></th>\n",
       "      <th>profile</th>\n",
       "      <th>region</th>\n",
       "      <th>department_id</th>\n",
       "      <th>total_expenditure</th>\n",
       "      <th>avg_expenditure</th>\n",
       "      <th>total_orders</th>\n",
       "      <th>avg_orders</th>\n",
       "    </tr>\n",
       "  </thead>\n",
       "  <tbody>\n",
       "    <tr>\n",
       "      <th>0</th>\n",
       "      <td>Adult Parent</td>\n",
       "      <td>Midwest</td>\n",
       "      <td>1</td>\n",
       "      <td>396952650</td>\n",
       "      <td>4042.781704</td>\n",
       "      <td>39695265</td>\n",
       "      <td>404.278170</td>\n",
       "    </tr>\n",
       "    <tr>\n",
       "      <th>1</th>\n",
       "      <td>Adult Parent</td>\n",
       "      <td>Midwest</td>\n",
       "      <td>2</td>\n",
       "      <td>5594600</td>\n",
       "      <td>3803.263086</td>\n",
       "      <td>559460</td>\n",
       "      <td>380.326309</td>\n",
       "    </tr>\n",
       "    <tr>\n",
       "      <th>2</th>\n",
       "      <td>Adult Parent</td>\n",
       "      <td>Midwest</td>\n",
       "      <td>3</td>\n",
       "      <td>228992070</td>\n",
       "      <td>4471.628002</td>\n",
       "      <td>22899207</td>\n",
       "      <td>447.162800</td>\n",
       "    </tr>\n",
       "    <tr>\n",
       "      <th>3</th>\n",
       "      <td>Adult Parent</td>\n",
       "      <td>Midwest</td>\n",
       "      <td>4</td>\n",
       "      <td>1821554650</td>\n",
       "      <td>4352.517407</td>\n",
       "      <td>182155465</td>\n",
       "      <td>435.251741</td>\n",
       "    </tr>\n",
       "    <tr>\n",
       "      <th>4</th>\n",
       "      <td>Adult Parent</td>\n",
       "      <td>Midwest</td>\n",
       "      <td>5</td>\n",
       "      <td>20881410</td>\n",
       "      <td>3008.415214</td>\n",
       "      <td>2088141</td>\n",
       "      <td>300.841521</td>\n",
       "    </tr>\n",
       "    <tr>\n",
       "      <th>...</th>\n",
       "      <td>...</td>\n",
       "      <td>...</td>\n",
       "      <td>...</td>\n",
       "      <td>...</td>\n",
       "      <td>...</td>\n",
       "      <td>...</td>\n",
       "      <td>...</td>\n",
       "    </tr>\n",
       "    <tr>\n",
       "      <th>499</th>\n",
       "      <td>Young Parent</td>\n",
       "      <td>West</td>\n",
       "      <td>17</td>\n",
       "      <td>62275750</td>\n",
       "      <td>3602.669791</td>\n",
       "      <td>6227575</td>\n",
       "      <td>360.266979</td>\n",
       "    </tr>\n",
       "    <tr>\n",
       "      <th>500</th>\n",
       "      <td>Young Parent</td>\n",
       "      <td>West</td>\n",
       "      <td>18</td>\n",
       "      <td>55491290</td>\n",
       "      <td>5671.636345</td>\n",
       "      <td>5549129</td>\n",
       "      <td>567.163635</td>\n",
       "    </tr>\n",
       "    <tr>\n",
       "      <th>501</th>\n",
       "      <td>Young Parent</td>\n",
       "      <td>West</td>\n",
       "      <td>19</td>\n",
       "      <td>296926530</td>\n",
       "      <td>4375.639635</td>\n",
       "      <td>29692653</td>\n",
       "      <td>437.563964</td>\n",
       "    </tr>\n",
       "    <tr>\n",
       "      <th>502</th>\n",
       "      <td>Young Parent</td>\n",
       "      <td>West</td>\n",
       "      <td>20</td>\n",
       "      <td>106583640</td>\n",
       "      <td>4364.425699</td>\n",
       "      <td>10658364</td>\n",
       "      <td>436.442570</td>\n",
       "    </tr>\n",
       "    <tr>\n",
       "      <th>503</th>\n",
       "      <td>Young Parent</td>\n",
       "      <td>West</td>\n",
       "      <td>21</td>\n",
       "      <td>6043740</td>\n",
       "      <td>3627.695078</td>\n",
       "      <td>604374</td>\n",
       "      <td>362.769508</td>\n",
       "    </tr>\n",
       "  </tbody>\n",
       "</table>\n",
       "<p>504 rows × 7 columns</p>\n",
       "</div>"
      ],
      "text/plain": [
       "          profile   region  department_id  total_expenditure  avg_expenditure  \\\n",
       "0    Adult Parent  Midwest              1          396952650      4042.781704   \n",
       "1    Adult Parent  Midwest              2            5594600      3803.263086   \n",
       "2    Adult Parent  Midwest              3          228992070      4471.628002   \n",
       "3    Adult Parent  Midwest              4         1821554650      4352.517407   \n",
       "4    Adult Parent  Midwest              5           20881410      3008.415214   \n",
       "..            ...      ...            ...                ...              ...   \n",
       "499  Young Parent     West             17           62275750      3602.669791   \n",
       "500  Young Parent     West             18           55491290      5671.636345   \n",
       "501  Young Parent     West             19          296926530      4375.639635   \n",
       "502  Young Parent     West             20          106583640      4364.425699   \n",
       "503  Young Parent     West             21            6043740      3627.695078   \n",
       "\n",
       "     total_orders  avg_orders  \n",
       "0        39695265  404.278170  \n",
       "1          559460  380.326309  \n",
       "2        22899207  447.162800  \n",
       "3       182155465  435.251741  \n",
       "4         2088141  300.841521  \n",
       "..            ...         ...  \n",
       "499       6227575  360.266979  \n",
       "500       5549129  567.163635  \n",
       "501      29692653  437.563964  \n",
       "502      10658364  436.442570  \n",
       "503        604374  362.769508  \n",
       "\n",
       "[504 rows x 7 columns]"
      ]
     },
     "execution_count": 48,
     "metadata": {},
     "output_type": "execute_result"
    }
   ],
   "source": [
    "(profile_region_dept_agg) "
   ]
  },
  {
   "cell_type": "markdown",
   "id": "4b4361e4-36d5-4af4-af4c-f41fc419b9b6",
   "metadata": {},
   "source": [
    "# Higher-income regions such as the West have greater expenditure per order across all profiles, while lower-income regions like south are conservative in spending"
   ]
  },
  {
   "cell_type": "markdown",
   "id": "354a6f98-8b10-4af1-aef5-415e81304800",
   "metadata": {},
   "source": [
    "# Produce suitable charts to illustrate your results and export them in your project folder"
   ]
  },
  {
   "cell_type": "code",
   "execution_count": 49,
   "id": "ab1fde9c-1ca6-4ed5-8055-cb9811220609",
   "metadata": {},
   "outputs": [],
   "source": [
    "heatmap_data = profile_region_dept_agg.pivot_table(\n",
    "    index='profile', \n",
    "    columns='region', \n",
    "    values='avg_expenditure', \n",
    "    aggfunc='mean'\n",
    ")"
   ]
  },
  {
   "cell_type": "code",
   "execution_count": 50,
   "id": "3b062cba-83df-4e4c-aad2-931d5655dca1",
   "metadata": {},
   "outputs": [
    {
     "data": {
      "image/png": "[encoded data removed]",
      "text/plain": [
       "<Figure size 1000x600 with 2 Axes>"
      ]
     },
     "metadata": {},
     "output_type": "display_data"
    }
   ],
   "source": [
    "plt.figure(figsize=(10, 6))\n",
    "sns.heatmap(heatmap_data, annot=True, fmt=\".2f\", cmap=\"YlGnBu\")\n",
    "plt.title('Average Expenditure by Profile and Region')\n",
    "plt.xlabel('Region')\n",
    "plt.ylabel('Customer Profile')\n",
    "plt.show()"
   ]
  },
  {
   "cell_type": "code",
   "execution_count": 58,
   "id": "1b1d377e-d29f-4b06-a79b-113009c84ee9",
   "metadata": {},
   "outputs": [],
   "source": [
    "region_profile_comparison = ords_prods_cust_merge.groupby(['region', 'profile']).agg(\n",
    "    total_expenditure=('expenditure', 'sum'),\n",
    "    mean_expenditure=('expenditure', 'mean'),\n",
    "    max_expenditure=('expenditure', 'max'),\n",
    "    min_expenditure=('expenditure', 'min'),\n",
    "    total_usage_frequency=('order_count', 'sum'),\n",
    "    mean_usage_frequency=('order_count', 'mean'),\n",
    ").reset_index()"
   ]
  },
  {
   "cell_type": "code",
   "execution_count": 60,
   "id": "996e1599-bf70-4a90-a5de-0da7e33c4e52",
   "metadata": {},
   "outputs": [
    {
     "data": {
      "image/png": "[encoded data removed]",
      "text/plain": [
       "<Figure size 1200x600 with 1 Axes>"
      ]
     },
     "metadata": {},
     "output_type": "display_data"
    }
   ],
   "source": [
    "# Bar chart for average expenditure by region and profile\n",
    "plt.figure(figsize=(12, 6))\n",
    "sns.barplot(\n",
    "    data=region_profile_comparison,\n",
    "    x='region',\n",
    "    y='mean_expenditure',\n",
    "    hue='profile'\n",
    ")\n",
    "plt.title('Average Expenditure by Region and Profile')\n",
    "plt.xlabel('Region')\n",
    "plt.ylabel('Average Expenditure')\n",
    "plt.legend(title='Customer Profile', loc='upper right')\n",
    "plt.tight_layout()\n",
    "plt.show()"
   ]
  },
  {
   "cell_type": "code",
   "execution_count": 63,
   "id": "7e5868ce-5146-49c7-8875-e47b90d0bd08",
   "metadata": {},
   "outputs": [
    {
     "data": {
      "image/png": "[encoded data removed]",
      "text/plain": [
       "<Figure size 1000x600 with 1 Axes>"
      ]
     },
     "metadata": {},
     "output_type": "display_data"
    }
   ],
   "source": [
    "# Histogram for usage frequency\n",
    "plt.figure(figsize=(10, 6))\n",
    "sns.histplot(\n",
    "    data=region_profile_comparison,\n",
    "    x='mean_usage_frequency',\n",
    "    hue='region',\n",
    "    multiple='stack',\n",
    "    bins=10,\n",
    "    kde=True\n",
    ")\n",
    "plt.title('Distribution of Usage Frequency by Region')\n",
    "plt.xlabel('Usage Frequency')\n",
    "plt.ylabel('Count')\n",
    "plt.tight_layout()\n",
    "plt.show()"
   ]
  },
  {
   "cell_type": "code",
   "execution_count": 64,
   "id": "743b6f2e-3f90-4512-a6c8-37568b3e9bae",
   "metadata": {},
   "outputs": [],
   "source": [
    "# Create a subset for one region (e.g., Region 1 - Northeast)\n",
    "region_1_data = region_profile_comparison[region_profile_comparison['region'] == 'Region 1']"
   ]
  },
  {
   "cell_type": "code",
   "execution_count": 69,
   "id": "9e3821db-2e90-47fb-82b7-1b78b1262729",
   "metadata": {},
   "outputs": [],
   "source": [
    "# Pivot data for stacked bar chart\n",
    "pivot_data = region_profile_comparison.pivot_table(\n",
    "    index='region', columns='profile', values='mean_expenditure', aggfunc='sum'\n",
    ")"
   ]
  },
  {
   "cell_type": "code",
   "execution_count": 72,
   "id": "0eb9158a-24fb-4264-8d95-1bb971f341a6",
   "metadata": {},
   "outputs": [
    {
     "data": {
      "image/png": "[encoded data removed]",
      "text/plain": [
       "<Figure size 1200x600 with 1 Axes>"
      ]
     },
     "metadata": {},
     "output_type": "display_data"
    }
   ],
   "source": [
    "# Stacked bar chart\n",
    "pivot_data.plot(\n",
    "    kind='bar',\n",
    "    stacked=True,\n",
    "    figsize=(12, 6),\n",
    "    colormap='viridis'\n",
    ")\n",
    "plt.title('Expenditure by Region and Customer Profile')\n",
    "plt.xlabel('Region')\n",
    "plt.ylabel('Total Expenditure')\n",
    "plt.legend(title='Customer Profile', loc='upper right')\n",
    "plt.tight_layout()\n",
    "plt.show()"
   ]
  },
  {
   "cell_type": "code",
   "execution_count": null,
   "id": "26fcc0f3-2bca-4448-a747-9dad1500eb52",
   "metadata": {},
   "outputs": [],
   "source": []
  }
 ],
 "metadata": {
  "kernelspec": {
   "display_name": "Python 3 (ipykernel)",
   "language": "python",
   "name": "python3"
  },
  "language_info": {
   "codemirror_mode": {
    "name": "ipython",
    "version": 3
   },
   "file_extension": ".py",
   "mimetype": "text/x-python",
   "name": "python",
   "nbconvert_exporter": "python",
   "pygments_lexer": "ipython3",
   "version": "3.12.7"
  }
 },
 "nbformat": 4,
 "nbformat_minor": 5
}

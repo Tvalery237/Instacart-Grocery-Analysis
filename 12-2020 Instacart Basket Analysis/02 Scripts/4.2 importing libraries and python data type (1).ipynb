{
 "cells": [
  {
   "cell_type": "code",
   "execution_count": 6,
   "id": "1f0f260f-83b9-46a8-aa9c-24ebd53fdafe",
   "metadata": {},
   "outputs": [],
   "source": [
    "# importing libraries"
   ]
  },
  {
   "cell_type": "code",
   "execution_count": 1,
   "id": "63c15b13-a5b7-4f5f-8cd5-44a433bdae1d",
   "metadata": {},
   "outputs": [],
   "source": [
    "# import libraries\n",
    "import pandas as pd\n",
    "import numpy as np\n",
    "import os"
   ]
  },
  {
   "cell_type": "code",
   "execution_count": 15,
   "id": "76a4af2c-ccae-401d-a4ec-a0f69031c576",
   "metadata": {},
   "outputs": [],
   "source": [
    "# data types"
   ]
  },
  {
   "cell_type": "code",
   "execution_count": 3,
   "id": "46b596b6-98a6-4644-9db2-aae52502b67f",
   "metadata": {},
   "outputs": [],
   "source": [
    "y = 50\n",
    "x = 50 "
   ]
  },
  {
   "cell_type": "code",
   "execution_count": 8,
   "id": "bab9fbe0-1ca5-44ff-9918-8ef7b2609528",
   "metadata": {},
   "outputs": [
    {
     "data": {
      "text/plain": [
       "100"
      ]
     },
     "execution_count": 8,
     "metadata": {},
     "output_type": "execute_result"
    }
   ],
   "source": [
    "y + x "
   ]
  },
  {
   "cell_type": "code",
   "execution_count": 9,
   "id": "f8efca06-1530-43a3-85d3-30a60ed7bb27",
   "metadata": {},
   "outputs": [],
   "source": [
    "a = 150"
   ]
  },
  {
   "cell_type": "code",
   "execution_count": 10,
   "id": "22e85872-8f9d-402c-8e08-95fadbb2250e",
   "metadata": {},
   "outputs": [
    {
     "data": {
      "text/plain": [
       "100"
      ]
     },
     "execution_count": 10,
     "metadata": {},
     "output_type": "execute_result"
    }
   ],
   "source": [
    "a - y"
   ]
  },
  {
   "cell_type": "code",
   "execution_count": 13,
   "id": "e7274344-0f06-4e54-a7a1-d34373aa36ba",
   "metadata": {},
   "outputs": [],
   "source": [
    "d = 250"
   ]
  },
  {
   "cell_type": "code",
   "execution_count": 14,
   "id": "c516f977-f7c0-48e0-bfc9-5faa0a79c7a9",
   "metadata": {},
   "outputs": [
    {
     "data": {
      "text/plain": [
       "100"
      ]
     },
     "execution_count": 14,
     "metadata": {},
     "output_type": "execute_result"
    }
   ],
   "source": [
    "d - a"
   ]
  },
  {
   "cell_type": "markdown",
   "id": "9bd2f781-1d74-432e-bde1-41d983ebc761",
   "metadata": {},
   "source": [
    "# 2 floating-point variables"
   ]
  },
  {
   "cell_type": "code",
   "execution_count": 16,
   "id": "18fdb94f-44a1-4c34-bc21-451123ec990d",
   "metadata": {},
   "outputs": [],
   "source": [
    "a = 69.43\n",
    "b = 30.1"
   ]
  },
  {
   "cell_type": "code",
   "execution_count": 17,
   "id": "98898f43-dbef-48a9-8d9c-b485ee213c50",
   "metadata": {},
   "outputs": [
    {
     "data": {
      "text/plain": [
       "9.230000000000004"
      ]
     },
     "execution_count": 17,
     "metadata": {},
     "output_type": "execute_result"
    }
   ],
   "source": [
    "a % b"
   ]
  },
  {
   "cell_type": "markdown",
   "id": "35696020-36c2-44e3-8960-b7e828d3ae6d",
   "metadata": {},
   "source": [
    "# Construct a short word made of separate strings"
   ]
  },
  {
   "cell_type": "code",
   "execution_count": 22,
   "id": "544165df-ebcd-4e32-8997-6f9240cf5621",
   "metadata": {},
   "outputs": [],
   "source": [
    "a = 'john'\n",
    "b = 'smith'"
   ]
  },
  {
   "cell_type": "code",
   "execution_count": 23,
   "id": "d30b83bf-181d-43ae-bb07-b4c3370c4d9d",
   "metadata": {},
   "outputs": [
    {
     "data": {
      "text/plain": [
       "'johnsmith'"
      ]
     },
     "execution_count": 23,
     "metadata": {},
     "output_type": "execute_result"
    }
   ],
   "source": [
    "a + b "
   ]
  },
  {
   "cell_type": "markdown",
   "id": "5e7ae975-e9a0-443e-8b47-defe28c4a1b4",
   "metadata": {},
   "source": [
    "# Construct 2 short sentences made of separate strings."
   ]
  },
  {
   "cell_type": "code",
   "execution_count": 24,
   "id": "b4a90609-34da-42f1-9637-f2861a0f5f66",
   "metadata": {},
   "outputs": [],
   "source": [
    "a = 'hi what is your name,'\n",
    "b = 'my name is john smith'"
   ]
  },
  {
   "cell_type": "code",
   "execution_count": 25,
   "id": "55fe1e2f-f7af-4069-8c21-b145fb27522b",
   "metadata": {},
   "outputs": [
    {
     "data": {
      "text/plain": [
       "'hi what is your name,my name is john smith'"
      ]
     },
     "execution_count": 25,
     "metadata": {},
     "output_type": "execute_result"
    }
   ],
   "source": [
    "a + b"
   ]
  },
  {
   "cell_type": "code",
   "execution_count": null,
   "id": "7fd35e18-2050-453c-8d5c-13beda459079",
   "metadata": {},
   "outputs": [],
   "source": []
  }
 ],
 "metadata": {
  "kernelspec": {
   "display_name": "Python 3 (ipykernel)",
   "language": "python",
   "name": "python3"
  },
  "language_info": {
   "codemirror_mode": {
    "name": "ipython",
    "version": 3
   },
   "file_extension": ".py",
   "mimetype": "text/x-python",
   "name": "python",
   "nbconvert_exporter": "python",
   "pygments_lexer": "ipython3",
   "version": "3.12.7"
  }
 },
 "nbformat": 4,
 "nbformat_minor": 5
}
